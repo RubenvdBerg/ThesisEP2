{
 "cells": [
  {
   "cell_type": "code",
   "execution_count": null,
   "outputs": [],
   "source": [
    "from kwak_replication_ep import ElectricPumpCycle\n",
    "from kwak_replication_gg import GasGeneratorCycle\n",
    "import matplotlib.pyplot as plt\n",
    "import numpy as np\n",
    "\n",
    "arguments = {\n",
    "    'thrust': 75E3, 'burn_time': 500, 'combustion_chamber_pressure': 7.0E6,\n",
    "    'exit_pressure': .002E6, 'max_acceleration': 4.5, 'heat_ratio_pressurant': 1.667,\n",
    "    'mass_mixture_ratio': 2.45, 'pressurant_initial_pressure': 27E6, 'pressurant_final_pressure': 5E6,\n",
    "    'oxidizer_initial_pressure': .4E6, 'fuel_initial_pressure': .25E6, 'fuel_pump_pressure_factor': 1.55,\n",
    "    'oxidizer_pump_pressure_factor': 1.15, 'pressurant_gas_constant': 2080,\n",
    "    'pressurant_initial_temperature': 100, 'oxidizer_pump_efficiency': .66, 'fuel_pump_efficiency': .61,\n",
    "    'pressurant_margin_factor': 1.1, 'pressurant_tank_structural_factor': 1.2,\n",
    "    'propellant_margin_factor': 1.01, 'tanks_structural_factor': 2.5, 'ullage_volume_factor': 1.08,\n",
    "    'oxidizer_density': 1126.1, 'fuel_density': 804.2, 'tanks_material_density': 2850,\n",
    "    'pressurant_tank_material_density': 4430, 'tanks_yield_strength': 250E6,\n",
    "    'pressurant_tank_yield_strength': 1100E6, 'verbose': True\n",
    "}\n",
    "\n",
    "gg_arguments = {\n",
    "    'gg_gas_specific_heat': 2024.7, 'heat_ratio_gg_gas': 1.16, 'mass_mixture_ratio_gg': 0.320,\n",
    "    'turbine_pressure_ratio': 27, 'gas_constant_gg_gas': 274.1, 'turbine_inlet_temperature': 900,\n",
    "    'gas_generator_stay_time': 10E-3, 'turbopump_specific_power': 13.5E3, 'turbine_efficiency': .52,\n",
    "    'gg_structural_factor': 2.5, 'gg_material_density': 8220, 'gg_yield_strength': 550E6, 'gg_thrust_contribution': 0.01\n",
    "\n",
    "}\n",
    "\n",
    "ep_arguments = {\n",
    "    'fuel_pump_specific_power': 15E3, 'oxidizer_pump_specific_power': 20E3, 'fuel_specific_heat': 2009,\n",
    "    'electric_motor_specific_power': 5.3E3, 'inverter_specific_power': 60E3, 'battery_specific_power': 6.95E3,\n",
    "    'battery_specific_energy': 198 * 3600, 'electric_motor_efficiency': .95, 'inverter_efficiency': .85,\n",
    "    'battery_structural_factor': 1.2, 'coolant_allowable_temperature_change': 40,\n",
    "}"
   ],
   "metadata": {
    "collapsed": false,
    "pycharm": {
     "name": "#%%\n",
     "is_executing": true
    }
   }
  },
  {
   "cell_type": "code",
   "execution_count": null,
   "outputs": [],
   "source": [
    "mmr_range = np.linspace(2.00, 4.00, 10)\n",
    "pcc_range = np.linspace(1E5, 1E7, 10)\n",
    "initial_mass = np.array()\n",
    "for mmr in mmr_range:\n",
    "    for pcc in pcc_range:\n",
    "        arguments['combustion_chamber_pressure'] = pcc\n",
    "        arguments['mass_mixture_ratio'] = mmr\n",
    "        np.append(initial_mass, [ElectricPumpCycle(**arguments, **ep_arguments).mass, mmr, pcc])\n",
    "\n",
    "print(initial_mass)"
   ],
   "metadata": {
    "collapsed": false,
    "pycharm": {
     "name": "#%%\n"
    }
   }
  }
 ],
 "metadata": {
  "kernelspec": {
   "display_name": "Python 3",
   "language": "python",
   "name": "python3"
  },
  "language_info": {
   "codemirror_mode": {
    "name": "ipython",
    "version": 2
   },
   "file_extension": ".py",
   "mimetype": "text/x-python",
   "name": "python",
   "nbconvert_exporter": "python",
   "pygments_lexer": "ipython2",
   "version": "2.7.6"
  }
 },
 "nbformat": 4,
 "nbformat_minor": 0
}