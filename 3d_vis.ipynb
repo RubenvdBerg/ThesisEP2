{
 "cells": [
  {
   "cell_type": "code",
   "execution_count": 1,
   "metadata": {
    "collapsed": true
   },
   "outputs": [
    {
     "name": "stdout",
     "output_type": "stream",
     "text": [
      "reading cea isp data files for LO2_NASA / RP1_NASA 100 times\n",
      "reading cea isp data files for LO2_NASA / RP1_NASA 200 times\n",
      "reading cea isp data files for LO2_NASA / RP1_NASA 300 times\n",
      "reading cea isp data files for LO2_NASA / RP1_NASA 400 times\n",
      "reading cea isp data files for LO2_NASA / RP1_NASA 500 times\n",
      "reading cea isp data files for LO2_NASA / RP1_NASA 600 times\n",
      "reading cea isp data files for LO2_NASA / RP1_NASA 700 times\n",
      "reading cea isp data files for LO2_NASA / RP1_NASA 800 times\n",
      "reading cea isp data files for LO2_NASA / RP1_NASA 900 times\n",
      "reading cea isp data files for LO2_NASA / RP1_NASA 1000 times\n",
      "reading cea isp data files for LO2_NASA / RP1_NASA 1100 times\n",
      "reading cea isp data files for LO2_NASA / RP1_NASA 1200 times\n",
      "reading cea isp data files for LO2_NASA / RP1_NASA 1300 times\n",
      "reading cea isp data files for LO2_NASA / RP1_NASA 1400 times\n",
      "reading cea isp data files for LO2_NASA / RP1_NASA 1500 times\n",
      "reading cea isp data files for LO2_NASA / RP1_NASA 1600 times\n",
      "reading cea isp data files for LO2_NASA / RP1_NASA 1700 times\n",
      "reading cea isp data files for LO2_NASA / RP1_NASA 1800 times\n",
      "reading cea isp data files for LO2_NASA / RP1_NASA 1900 times\n",
      "reading cea isp data files for LO2_NASA / RP1_NASA 2000 times\n",
      "reading cea isp data files for LO2_NASA / RP1_NASA 2100 times\n",
      "reading cea isp data files for LO2_NASA / RP1_NASA 2200 times\n",
      "reading cea isp data files for LO2_NASA / RP1_NASA 2300 times\n",
      "reading cea isp data files for LO2_NASA / RP1_NASA 2400 times\n",
      "reading cea isp data files for LO2_NASA / RP1_NASA 2500 times\n",
      "[[14238.855787603203, 2.0, 100000.0], [12196.444197389457, 2.0, 1200000.0], [11964.963171132526, 2.0, 2300000.0], [11880.049040385104, 2.0, 3400000.0], [11848.680193688746, 2.0, 4500000.0], [11844.338958223521, 2.0, 5600000.0], [11855.95291902532, 2.0, 6700000.0], [11877.907267622397, 2.0, 7800000.0], [11907.023395335753, 2.0, 8900000.0], [11941.371859260207, 2.0, 10000000.0], [14104.61778996975, 2.2222222222222223, 100000.0], [11889.659439101382, 2.2222222222222223, 1200000.0], [11638.843792648438, 2.2222222222222223, 2300000.0], [11543.77424751231, 2.2222222222222223, 3400000.0], [11505.208518315323, 2.2222222222222223, 4500000.0], [11495.095979362191, 2.2222222222222223, 5600000.0], [11501.842009540014, 2.2222222222222223, 6700000.0], [11519.615651674954, 2.2222222222222223, 7800000.0], [11545.101947687917, 2.2222222222222223, 8900000.0], [11576.249813836323, 2.2222222222222223, 10000000.0], [14139.167530596505, 2.4444444444444446, 100000.0], [11710.444384531338, 2.4444444444444446, 1200000.0], [11430.77047594034, 2.4444444444444446, 2300000.0], [11321.216686894202, 2.4444444444444446, 3400000.0], [11272.973042794172, 2.4444444444444446, 4500000.0], [11255.466505475231, 2.4444444444444446, 5600000.0], [11256.1098092165, 2.4444444444444446, 6700000.0], [11268.592395083924, 2.4444444444444446, 7800000.0], [11289.336079953864, 2.4444444444444446, 8900000.0], [11316.132049753394, 2.4444444444444446, 10000000.0], [14264.660049565473, 2.6666666666666665, 100000.0], [11638.245732013758, 2.6666666666666665, 1200000.0], [11319.459951265237, 2.6666666666666665, 2300000.0], [11190.54358707243, 2.6666666666666665, 3400000.0], [11129.70361269186, 2.6666666666666665, 4500000.0], [11102.862725475266, 2.6666666666666665, 5600000.0], [11096.039354232733, 2.6666666666666665, 6700000.0], [11102.242831226607, 2.6666666666666665, 7800000.0], [11117.518054658814, 2.6666666666666665, 8900000.0], [11139.428095729552, 2.6666666666666665, 10000000.0], [14423.888004676039, 2.888888888888889, 100000.0], [11662.784171575395, 2.888888888888889, 1200000.0], [11296.224203854783, 2.888888888888889, 2300000.0], [11142.552171201432, 2.888888888888889, 3400000.0], [11065.725094386205, 2.888888888888889, 4500000.0], [11027.227546120117, 2.888888888888889, 5600000.0], [11011.252208474412, 2.888888888888889, 6700000.0], [11009.90641158104, 2.888888888888889, 7800000.0], [11018.731800497133, 2.888888888888889, 8900000.0], [11034.985499400656, 2.888888888888889, 10000000.0], [14592.399905180653, 3.111111111111111, 100000.0], [11759.838145041438, 3.111111111111111, 1200000.0], [11356.723815921026, 3.111111111111111, 2300000.0], [11176.72709871884, 3.111111111111111, 3400000.0], [11080.946975237015, 3.111111111111111, 4500000.0], [11028.225652809728, 3.111111111111111, 5600000.0], [11001.058396984765, 3.111111111111111, 6700000.0], [10990.547411718826, 3.111111111111111, 7800000.0], [10991.627686908685, 3.111111111111111, 8900000.0], [11001.173089377211, 3.111111111111111, 10000000.0], [14761.18239683848, 3.333333333333333, 100000.0], [11885.480472473007, 3.333333333333333, 1200000.0], [11469.525968511212, 3.333333333333333, 2300000.0], [11278.61776825094, 3.333333333333333, 3400000.0], [11172.430014519108, 3.333333333333333, 4500000.0], [11109.868383313009, 3.333333333333333, 5600000.0], [11073.571788290099, 3.333333333333333, 6700000.0], [11054.671978653263, 3.333333333333333, 7800000.0], [11048.06656258714, 3.333333333333333, 8900000.0], [11050.568283108925, 3.333333333333333, 10000000.0], [14926.767075640862, 3.5555555555555554, 100000.0], [12019.304766982092, 3.5555555555555554, 1200000.0], [11598.779382496277, 3.5555555555555554, 2300000.0], [11405.757410787932, 3.5555555555555554, 3400000.0], [11298.37577557402, 3.5555555555555554, 4500000.0], [11235.088686436282, 3.5555555555555554, 5600000.0], [11198.34105323275, 3.5555555555555554, 6700000.0], [11179.162138118292, 3.5555555555555554, 7800000.0], [11172.3877344526, 3.5555555555555554, 8900000.0], [11174.789506768722, 3.5555555555555554, 10000000.0], [15087.845220830925, 3.7777777777777777, 100000.0], [12155.382728016535, 3.7777777777777777, 1200000.0], [11733.71528418971, 3.7777777777777777, 2300000.0], [11541.50278511414, 3.7777777777777777, 3400000.0], [11435.616483083777, 3.7777777777777777, 4500000.0], [11374.137290824096, 3.7777777777777777, 5600000.0], [11339.343299985752, 3.7777777777777777, 6700000.0], [11322.172477373028, 3.7777777777777777, 7800000.0], [11317.405861512694, 3.7777777777777777, 8900000.0], [11321.781566494052, 3.7777777777777777, 10000000.0], [15244.049314396929, 4.0, 100000.0], [12291.908197519091, 4.0, 1200000.0], [11871.571935158341, 4.0, 2300000.0], [11682.085079939869, 4.0, 3400000.0], [11579.220806680123, 4.0, 4500000.0], [11520.735093069741, 4.0, 5600000.0], [11488.78032731469, 4.0, 6700000.0], [11474.25099866507, 4.0, 7800000.0], [11471.923412581598, 4.0, 8900000.0], [11478.548503766731, 4.0, 10000000.0]]\n"
     ]
    }
   ],
   "source": [
    "from kwak_replication_ep import ElectricPumpCycle\n",
    "from kwak_replication_gg import GasGeneratorCycle\n",
    "import matplotlib.pyplot as plt\n",
    "import numpy as np\n",
    "mmr_range = np.linspace(2.00, 4.00, 10)\n",
    "pcc_range = np.linspace(1E5, 1E7, 10)\n",
    "\n",
    "arguments = {\n",
    "    'thrust': 75E3, 'burn_time': 500, 'combustion_chamber_pressure': 7.0E6,\n",
    "    'exit_pressure': .002E6, 'max_acceleration': 4.5, 'heat_ratio_pressurant': 1.667,\n",
    "    'mass_mixture_ratio': 2.45, 'pressurant_initial_pressure': 27E6, 'pressurant_final_pressure': 5E6,\n",
    "    'oxidizer_initial_pressure': .4E6, 'fuel_initial_pressure': .25E6, 'fuel_pump_pressure_factor': 1.55,\n",
    "    'oxidizer_pump_pressure_factor': 1.15, 'pressurant_gas_constant': 2080,\n",
    "    'pressurant_initial_temperature': 100, 'oxidizer_pump_efficiency': .66, 'fuel_pump_efficiency': .61,\n",
    "    'pressurant_margin_factor': 1.1, 'pressurant_tank_structural_factor': 1.2,\n",
    "    'propellant_margin_factor': 1.01, 'tanks_structural_factor': 2.5, 'ullage_volume_factor': 1.08,\n",
    "    'oxidizer_density': 1126.1, 'fuel_density': 804.2, 'tanks_material_density': 2850,\n",
    "    'pressurant_tank_material_density': 4430, 'tanks_yield_strength': 250E6,\n",
    "    'pressurant_tank_yield_strength': 1100E6, 'verbose': True\n",
    "}\n",
    "\n",
    "gg_arguments = {\n",
    "    'gg_gas_specific_heat': 2024.7, 'heat_ratio_gg_gas': 1.16, 'mass_mixture_ratio_gg': 0.320,\n",
    "    'turbine_pressure_ratio': 27, 'gas_constant_gg_gas': 274.1, 'turbine_inlet_temperature': 900,\n",
    "    'gas_generator_stay_time': 10E-3, 'turbopump_specific_power': 13.5E3, 'turbine_efficiency': .52,\n",
    "    'gg_structural_factor': 2.5, 'gg_material_density': 8220, 'gg_yield_strength': 550E6, 'gg_thrust_contribution': 0.01\n",
    "\n",
    "}\n",
    "\n",
    "ep_arguments = {\n",
    "    'fuel_pump_specific_power': 15E3, 'oxidizer_pump_specific_power': 20E3, 'fuel_specific_heat': 2009,\n",
    "    'electric_motor_specific_power': 5.3E3, 'inverter_specific_power': 60E3, 'battery_specific_power': 6.95E3,\n",
    "    'battery_specific_energy': 198 * 3600, 'electric_motor_efficiency': .95, 'inverter_efficiency': .85,\n",
    "    'battery_structural_factor': 1.2, 'coolant_allowable_temperature_change': 40,\n",
    "}\n",
    "initial_mass = np.array()\n",
    "for mmr in mmr_range:\n",
    "    for pcc in pcc_range:\n",
    "        arguments['combustion_chamber_pressure'] = pcc\n",
    "        arguments['mass_mixture_ratio'] = mmr\n",
    "        np.append(initial_mass, [ElectricPumpCycle(**arguments, **ep_arguments).mass, mmr, pcc])\n",
    "\n",
    "print(initial_mass)\n"
   ]
  },
  {
   "cell_type": "code",
   "execution_count": null,
   "outputs": [],
   "source": [
    "# fig = plt.figure()\n",
    "# ax = plt.axes(projection='3d')\n",
    "# ax.plot_surface(X, Y, Z, 50, cmap='binary')\n",
    "# ax.set_xlabel('x')\n",
    "# ax.set_ylabel('y')\n",
    "# ax.set_zlabel('z')"
   ],
   "metadata": {
    "collapsed": false,
    "pycharm": {
     "name": "#%%\n"
    }
   }
  },
  {
   "cell_type": "code",
   "execution_count": 3,
   "outputs": [],
   "source": [
    "X = np.arange(0, 5, 1)\n",
    "Y = np.arange(0, 5, 1)\n",
    "X, Y = np.meshgrid(X, Y)\n",
    "R = np.sqrt(X**2 + Y**2)\n",
    "Z = np.sin(R)\n"
   ],
   "metadata": {
    "collapsed": false,
    "pycharm": {
     "name": "#%%\n"
    }
   }
  }
 ],
 "metadata": {
  "kernelspec": {
   "name": "python3",
   "language": "python",
   "display_name": "Python 3 (ipykernel)"
  },
  "language_info": {
   "codemirror_mode": {
    "name": "ipython",
    "version": 2
   },
   "file_extension": ".py",
   "mimetype": "text/x-python",
   "name": "python",
   "nbconvert_exporter": "python",
   "pygments_lexer": "ipython2",
   "version": "2.7.6"
  }
 },
 "nbformat": 4,
 "nbformat_minor": 0
}